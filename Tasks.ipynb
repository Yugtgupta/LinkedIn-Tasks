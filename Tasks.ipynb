{
 "cells": [
  {
   "cell_type": "markdown",
   "id": "36a5d6e9",
   "metadata": {},
   "source": [
    "### Task 1-"
   ]
  },
  {
   "cell_type": "code",
   "execution_count": 1,
   "id": "be76c7e8",
   "metadata": {},
   "outputs": [],
   "source": [
    "import pandas as pd #Imported pandas library"
   ]
  },
  {
   "cell_type": "code",
   "execution_count": 2,
   "id": "0c6cdfaf",
   "metadata": {},
   "outputs": [
    {
     "data": {
      "text/html": [
       "<div>\n",
       "<style scoped>\n",
       "    .dataframe tbody tr th:only-of-type {\n",
       "        vertical-align: middle;\n",
       "    }\n",
       "\n",
       "    .dataframe tbody tr th {\n",
       "        vertical-align: top;\n",
       "    }\n",
       "\n",
       "    .dataframe thead th {\n",
       "        text-align: right;\n",
       "    }\n",
       "</style>\n",
       "<table border=\"1\" class=\"dataframe\">\n",
       "  <thead>\n",
       "    <tr style=\"text-align: right;\">\n",
       "      <th></th>\n",
       "      <th>oem_id</th>\n",
       "      <th>brand</th>\n",
       "      <th>model</th>\n",
       "      <th>released_date</th>\n",
       "      <th>announced_date</th>\n",
       "      <th>hardware_designer</th>\n",
       "      <th>manufacturer</th>\n",
       "      <th>codename</th>\n",
       "      <th>general_extras</th>\n",
       "      <th>device_category</th>\n",
       "      <th>...</th>\n",
       "      <th>usb_connector</th>\n",
       "      <th>max_charging_power</th>\n",
       "      <th>bluetooth</th>\n",
       "      <th>WLAN</th>\n",
       "      <th>additional_sensors</th>\n",
       "      <th>battery_capacity</th>\n",
       "      <th>market_regions</th>\n",
       "      <th>info_added_date</th>\n",
       "      <th>x_resolution</th>\n",
       "      <th>y_resolution</th>\n",
       "    </tr>\n",
       "  </thead>\n",
       "  <tbody>\n",
       "    <tr>\n",
       "      <th>0</th>\n",
       "      <td>A135UZKAUSC</td>\n",
       "      <td>Samsung</td>\n",
       "      <td>SM-A135U Galaxy A13 2022 Standard Edition TD-L...</td>\n",
       "      <td>28-03-22</td>\n",
       "      <td>04-03-22</td>\n",
       "      <td>Samsung Electronics</td>\n",
       "      <td>Samsung Electronics</td>\n",
       "      <td>Samsung A135</td>\n",
       "      <td>Haptic touch feedback</td>\n",
       "      <td>Smartphone</td>\n",
       "      <td>...</td>\n",
       "      <td>USB C reversible</td>\n",
       "      <td>15.0</td>\n",
       "      <td>Bluetooth 5.0</td>\n",
       "      <td>802.11a,802.11b,802.11g,802.11n,802.11ac</td>\n",
       "      <td>FP sensor,L sensor,P sensor</td>\n",
       "      <td>5000 mAh battery</td>\n",
       "      <td>North America</td>\n",
       "      <td>02-08-23 18:10</td>\n",
       "      <td>1080</td>\n",
       "      <td>2408</td>\n",
       "    </tr>\n",
       "    <tr>\n",
       "      <th>1</th>\n",
       "      <td>A135UZKDXAA</td>\n",
       "      <td>Samsung</td>\n",
       "      <td>SM-A135U1/DS Galaxy A13 2022 Standard Edition ...</td>\n",
       "      <td>28-03-22</td>\n",
       "      <td>04-03-22</td>\n",
       "      <td>Samsung Electronics</td>\n",
       "      <td>Samsung Electronics</td>\n",
       "      <td>Samsung A135</td>\n",
       "      <td>Haptic touch feedback</td>\n",
       "      <td>Smartphone</td>\n",
       "      <td>...</td>\n",
       "      <td>USB C reversible</td>\n",
       "      <td>15.0</td>\n",
       "      <td>Bluetooth 5.0</td>\n",
       "      <td>802.11a,802.11b,802.11g,802.11n,802.11ac</td>\n",
       "      <td>FP sensor,L sensor,P sensor</td>\n",
       "      <td>5000 mAh battery</td>\n",
       "      <td>North America</td>\n",
       "      <td>01-08-23 09:00</td>\n",
       "      <td>1080</td>\n",
       "      <td>2408</td>\n",
       "    </tr>\n",
       "  </tbody>\n",
       "</table>\n",
       "<p>2 rows × 48 columns</p>\n",
       "</div>"
      ],
      "text/plain": [
       "        oem_id    brand                                              model  \\\n",
       "0  A135UZKAUSC  Samsung  SM-A135U Galaxy A13 2022 Standard Edition TD-L...   \n",
       "1  A135UZKDXAA  Samsung  SM-A135U1/DS Galaxy A13 2022 Standard Edition ...   \n",
       "\n",
       "  released_date announced_date    hardware_designer         manufacturer  \\\n",
       "0      28-03-22       04-03-22  Samsung Electronics  Samsung Electronics   \n",
       "1      28-03-22       04-03-22  Samsung Electronics  Samsung Electronics   \n",
       "\n",
       "       codename         general_extras device_category  ...     usb_connector  \\\n",
       "0  Samsung A135  Haptic touch feedback      Smartphone  ...  USB C reversible   \n",
       "1  Samsung A135  Haptic touch feedback      Smartphone  ...  USB C reversible   \n",
       "\n",
       "   max_charging_power      bluetooth  \\\n",
       "0                15.0  Bluetooth 5.0   \n",
       "1                15.0  Bluetooth 5.0   \n",
       "\n",
       "                                       WLAN           additional_sensors  \\\n",
       "0  802.11a,802.11b,802.11g,802.11n,802.11ac  FP sensor,L sensor,P sensor   \n",
       "1  802.11a,802.11b,802.11g,802.11n,802.11ac  FP sensor,L sensor,P sensor   \n",
       "\n",
       "   battery_capacity market_regions info_added_date x_resolution y_resolution  \n",
       "0  5000 mAh battery  North America  02-08-23 18:10         1080         2408  \n",
       "1  5000 mAh battery  North America  01-08-23 09:00         1080         2408  \n",
       "\n",
       "[2 rows x 48 columns]"
      ]
     },
     "execution_count": 2,
     "metadata": {},
     "output_type": "execute_result"
    }
   ],
   "source": [
    "df=pd.read_csv(\"device_features.csv\") #Read the csv file\n",
    "df.head(2)"
   ]
  },
  {
   "cell_type": "code",
   "execution_count": 3,
   "id": "59960835",
   "metadata": {},
   "outputs": [
    {
     "data": {
      "text/plain": [
       "array(['USD', 'JPY', 'MXN', 'BRL', 'EUR', 'INR', 'GBP', 'CNY', 'TWD',\n",
       "       'THB', 'CAD', 'SGD', 'IDR', 'AED', 'TRY', 'MYR', 'HKD', 'AUD',\n",
       "       'KRW', 'CHF', 'ARS', 'KZT', 'HUF', 'PLN', 'RUB'], dtype=object)"
      ]
     },
     "execution_count": 3,
     "metadata": {},
     "output_type": "execute_result"
    }
   ],
   "source": [
    "df['price_currency'].unique() # Checking the different kinds of currencies in the dataframe"
   ]
  },
  {
   "cell_type": "code",
   "execution_count": 4,
   "id": "1efdf117",
   "metadata": {},
   "outputs": [],
   "source": [
    "# Creating a dictionary containing conversion rates to convert from X currency to USD\n",
    "exchange_rates = {'USD': 1, 'CNY': 0.14 , 'EUR': 1.11 , 'INR': 0.012 , 'GBP': 1.28 , 'CAD': 0.76 , 'JPY': 0.0071 , 'MXN': 0.059 , 'KRW': 0.00077 , 'AUD': 0.68 , 'TWD': 0.033 , 'BRL': 0.21 , 'RUB': 0.011 , 'KZT': 0.0022 , 'HKD': 0.13 , 'IDR': 0.000065 , 'AED': 0.27 , 'MYR': 0.22 , 'SGD': 0.76 , 'TRY': 0.034 , 'HUF': 0.0029 , 'PLN': 0.25 , 'THB': 0.029 , 'CHF': 1.19 , 'ARS': 0.0012 }"
   ]
  },
  {
   "cell_type": "code",
   "execution_count": 5,
   "id": "9212a489",
   "metadata": {},
   "outputs": [
    {
     "data": {
      "text/plain": [
       "247.08"
      ]
     },
     "execution_count": 5,
     "metadata": {},
     "output_type": "execute_result"
    }
   ],
   "source": [
    "# Creating a function which converts X currency to usd using the dictionary created above \n",
    "def converted_currency(row):\n",
    "    price_in_usd=row['price']*exchange_rates[row[\"price_currency\"]]\n",
    "    return price_in_usd\n",
    "    \n",
    "    \n",
    "converted_currency(df.loc[3]) # Test case"
   ]
  },
  {
   "cell_type": "code",
   "execution_count": 6,
   "id": "742b5c17",
   "metadata": {},
   "outputs": [
    {
     "data": {
      "text/html": [
       "<div>\n",
       "<style scoped>\n",
       "    .dataframe tbody tr th:only-of-type {\n",
       "        vertical-align: middle;\n",
       "    }\n",
       "\n",
       "    .dataframe tbody tr th {\n",
       "        vertical-align: top;\n",
       "    }\n",
       "\n",
       "    .dataframe thead th {\n",
       "        text-align: right;\n",
       "    }\n",
       "</style>\n",
       "<table border=\"1\" class=\"dataframe\">\n",
       "  <thead>\n",
       "    <tr style=\"text-align: right;\">\n",
       "      <th></th>\n",
       "      <th>oem_id</th>\n",
       "      <th>brand</th>\n",
       "      <th>model</th>\n",
       "      <th>released_date</th>\n",
       "      <th>announced_date</th>\n",
       "      <th>hardware_designer</th>\n",
       "      <th>manufacturer</th>\n",
       "      <th>codename</th>\n",
       "      <th>general_extras</th>\n",
       "      <th>device_category</th>\n",
       "      <th>...</th>\n",
       "      <th>max_charging_power</th>\n",
       "      <th>bluetooth</th>\n",
       "      <th>WLAN</th>\n",
       "      <th>additional_sensors</th>\n",
       "      <th>battery_capacity</th>\n",
       "      <th>market_regions</th>\n",
       "      <th>info_added_date</th>\n",
       "      <th>x_resolution</th>\n",
       "      <th>y_resolution</th>\n",
       "      <th>price_in_usd</th>\n",
       "    </tr>\n",
       "  </thead>\n",
       "  <tbody>\n",
       "    <tr>\n",
       "      <th>0</th>\n",
       "      <td>A135UZKAUSC</td>\n",
       "      <td>Samsung</td>\n",
       "      <td>SM-A135U Galaxy A13 2022 Standard Edition TD-L...</td>\n",
       "      <td>28-03-22</td>\n",
       "      <td>04-03-22</td>\n",
       "      <td>Samsung Electronics</td>\n",
       "      <td>Samsung Electronics</td>\n",
       "      <td>Samsung A135</td>\n",
       "      <td>Haptic touch feedback</td>\n",
       "      <td>Smartphone</td>\n",
       "      <td>...</td>\n",
       "      <td>15.0</td>\n",
       "      <td>Bluetooth 5.0</td>\n",
       "      <td>802.11a,802.11b,802.11g,802.11n,802.11ac</td>\n",
       "      <td>FP sensor,L sensor,P sensor</td>\n",
       "      <td>5000 mAh battery</td>\n",
       "      <td>North America</td>\n",
       "      <td>02-08-23 18:10</td>\n",
       "      <td>1080</td>\n",
       "      <td>2408</td>\n",
       "      <td>199.0</td>\n",
       "    </tr>\n",
       "    <tr>\n",
       "      <th>1</th>\n",
       "      <td>A135UZKDXAA</td>\n",
       "      <td>Samsung</td>\n",
       "      <td>SM-A135U1/DS Galaxy A13 2022 Standard Edition ...</td>\n",
       "      <td>28-03-22</td>\n",
       "      <td>04-03-22</td>\n",
       "      <td>Samsung Electronics</td>\n",
       "      <td>Samsung Electronics</td>\n",
       "      <td>Samsung A135</td>\n",
       "      <td>Haptic touch feedback</td>\n",
       "      <td>Smartphone</td>\n",
       "      <td>...</td>\n",
       "      <td>15.0</td>\n",
       "      <td>Bluetooth 5.0</td>\n",
       "      <td>802.11a,802.11b,802.11g,802.11n,802.11ac</td>\n",
       "      <td>FP sensor,L sensor,P sensor</td>\n",
       "      <td>5000 mAh battery</td>\n",
       "      <td>North America</td>\n",
       "      <td>01-08-23 09:00</td>\n",
       "      <td>1080</td>\n",
       "      <td>2408</td>\n",
       "      <td>199.0</td>\n",
       "    </tr>\n",
       "  </tbody>\n",
       "</table>\n",
       "<p>2 rows × 49 columns</p>\n",
       "</div>"
      ],
      "text/plain": [
       "        oem_id    brand                                              model  \\\n",
       "0  A135UZKAUSC  Samsung  SM-A135U Galaxy A13 2022 Standard Edition TD-L...   \n",
       "1  A135UZKDXAA  Samsung  SM-A135U1/DS Galaxy A13 2022 Standard Edition ...   \n",
       "\n",
       "  released_date announced_date    hardware_designer         manufacturer  \\\n",
       "0      28-03-22       04-03-22  Samsung Electronics  Samsung Electronics   \n",
       "1      28-03-22       04-03-22  Samsung Electronics  Samsung Electronics   \n",
       "\n",
       "       codename         general_extras device_category  ...  \\\n",
       "0  Samsung A135  Haptic touch feedback      Smartphone  ...   \n",
       "1  Samsung A135  Haptic touch feedback      Smartphone  ...   \n",
       "\n",
       "   max_charging_power      bluetooth  \\\n",
       "0                15.0  Bluetooth 5.0   \n",
       "1                15.0  Bluetooth 5.0   \n",
       "\n",
       "                                       WLAN           additional_sensors  \\\n",
       "0  802.11a,802.11b,802.11g,802.11n,802.11ac  FP sensor,L sensor,P sensor   \n",
       "1  802.11a,802.11b,802.11g,802.11n,802.11ac  FP sensor,L sensor,P sensor   \n",
       "\n",
       "   battery_capacity  market_regions info_added_date x_resolution y_resolution  \\\n",
       "0  5000 mAh battery   North America  02-08-23 18:10         1080         2408   \n",
       "1  5000 mAh battery   North America  01-08-23 09:00         1080         2408   \n",
       "\n",
       "  price_in_usd  \n",
       "0        199.0  \n",
       "1        199.0  \n",
       "\n",
       "[2 rows x 49 columns]"
      ]
     },
     "execution_count": 6,
     "metadata": {},
     "output_type": "execute_result"
    }
   ],
   "source": [
    "# Passing each row to the function so that the currency conversion can take place and storing the outputs in a new column.\n",
    "df['price_in_usd']=df.apply(lambda x:converted_currency(x), axis=1)\n",
    "df.head(2)"
   ]
  },
  {
   "cell_type": "code",
   "execution_count": 7,
   "id": "e1bbd07c",
   "metadata": {},
   "outputs": [
    {
     "data": {
      "text/html": [
       "<div>\n",
       "<style scoped>\n",
       "    .dataframe tbody tr th:only-of-type {\n",
       "        vertical-align: middle;\n",
       "    }\n",
       "\n",
       "    .dataframe tbody tr th {\n",
       "        vertical-align: top;\n",
       "    }\n",
       "\n",
       "    .dataframe thead th {\n",
       "        text-align: right;\n",
       "    }\n",
       "</style>\n",
       "<table border=\"1\" class=\"dataframe\">\n",
       "  <thead>\n",
       "    <tr style=\"text-align: right;\">\n",
       "      <th></th>\n",
       "      <th>brand</th>\n",
       "      <th>device_category</th>\n",
       "      <th>Mean_in_usd</th>\n",
       "    </tr>\n",
       "  </thead>\n",
       "  <tbody>\n",
       "    <tr>\n",
       "      <th>0</th>\n",
       "      <td>Apple</td>\n",
       "      <td>Smartphone</td>\n",
       "      <td>1236.761940</td>\n",
       "    </tr>\n",
       "    <tr>\n",
       "      <th>1</th>\n",
       "      <td>Apple</td>\n",
       "      <td>Smartwatch</td>\n",
       "      <td>353.242500</td>\n",
       "    </tr>\n",
       "    <tr>\n",
       "      <th>2</th>\n",
       "      <td>Apple</td>\n",
       "      <td>Tablet</td>\n",
       "      <td>1479.663796</td>\n",
       "    </tr>\n",
       "    <tr>\n",
       "      <th>3</th>\n",
       "      <td>Asus</td>\n",
       "      <td>Smartphone</td>\n",
       "      <td>972.652229</td>\n",
       "    </tr>\n",
       "    <tr>\n",
       "      <th>4</th>\n",
       "      <td>BBK</td>\n",
       "      <td>Smartphone</td>\n",
       "      <td>623.952000</td>\n",
       "    </tr>\n",
       "  </tbody>\n",
       "</table>\n",
       "</div>"
      ],
      "text/plain": [
       "   brand device_category  Mean_in_usd\n",
       "0  Apple      Smartphone  1236.761940\n",
       "1  Apple      Smartwatch   353.242500\n",
       "2  Apple          Tablet  1479.663796\n",
       "3   Asus      Smartphone   972.652229\n",
       "4    BBK      Smartphone   623.952000"
      ]
     },
     "execution_count": 7,
     "metadata": {},
     "output_type": "execute_result"
    }
   ],
   "source": [
    "# Grouping by 2 columns and finding the mean of the the price in usd column \n",
    "df1=pd.DataFrame(df.groupby(['brand','device_category'])['price_in_usd'].mean().reset_index()) # Creating a new dataframe so that accessing the mean price is then easy\n",
    "df1.rename({'price_in_usd':'Mean_in_usd'},axis=1,inplace=True) # Renamed the column\n",
    "df1.head()"
   ]
  },
  {
   "cell_type": "code",
   "execution_count": 8,
   "id": "f2478bef",
   "metadata": {},
   "outputs": [],
   "source": [
    "\"\"\"\n",
    "Creating a function that takes the brand and device type entered and prints the corresponding mean price.\n",
    "Edge cases of brand entered not available and subsquently the device type unavailable for that brand is also considered\n",
    "If all the conditions satisfy then the corresponding mean price is obtained and printed\n",
    "\"\"\"\n",
    "def average_price(brand,device_type):\n",
    "    if(df1['brand'].eq(brand).any() == False):\n",
    "        print(f'{brand} data not available')\n",
    "    elif(df1['brand'].eq(brand).any() == True and df1['device_category'].eq(device_type).any() == False):\n",
    "        print(f'{device_type} not available for {brand} brand')\n",
    "    else:\n",
    "        mean_price=df1[ (df1['brand'] == brand) & (df1['device_category'] == device_type) ]['Mean_in_usd'].iloc[0] \n",
    "        print(f'Mean price of {brand} {device_type} is ${mean_price} ')"
   ]
  },
  {
   "cell_type": "code",
   "execution_count": 9,
   "id": "fa7e63a2",
   "metadata": {},
   "outputs": [
    {
     "name": "stdout",
     "output_type": "stream",
     "text": [
      "Mean price of Samsung Tablet is $527.1983333333334 \n"
     ]
    }
   ],
   "source": [
    "average_price('Samsung','Tablet') #Example of user input."
   ]
  },
  {
   "cell_type": "markdown",
   "id": "d4010e88",
   "metadata": {},
   "source": [
    "### Task 2-\n"
   ]
  },
  {
   "cell_type": "code",
   "execution_count": 10,
   "id": "76c47f4d",
   "metadata": {},
   "outputs": [],
   "source": [
    "import matplotlib.pyplot as plt #Importing matplotlib"
   ]
  },
  {
   "cell_type": "code",
   "execution_count": 11,
   "id": "fcae7913",
   "metadata": {},
   "outputs": [
    {
     "data": {
      "text/plain": [
       "dtype('O')"
      ]
     },
     "execution_count": 11,
     "metadata": {},
     "output_type": "execute_result"
    }
   ],
   "source": [
    "df['released_date'].dtype"
   ]
  },
  {
   "cell_type": "code",
   "execution_count": 12,
   "id": "b767843a",
   "metadata": {},
   "outputs": [],
   "source": [
    "# Converted the object type of released_date to datetime\n",
    "df['released_date']=pd.to_datetime(df['released_date'], format='%d-%m-%y') "
   ]
  },
  {
   "cell_type": "code",
   "execution_count": 13,
   "id": "ba0aba03",
   "metadata": {},
   "outputs": [
    {
     "data": {
      "text/html": [
       "<div>\n",
       "<style scoped>\n",
       "    .dataframe tbody tr th:only-of-type {\n",
       "        vertical-align: middle;\n",
       "    }\n",
       "\n",
       "    .dataframe tbody tr th {\n",
       "        vertical-align: top;\n",
       "    }\n",
       "\n",
       "    .dataframe thead th {\n",
       "        text-align: right;\n",
       "    }\n",
       "</style>\n",
       "<table border=\"1\" class=\"dataframe\">\n",
       "  <thead>\n",
       "    <tr style=\"text-align: right;\">\n",
       "      <th></th>\n",
       "      <th>oem_id</th>\n",
       "      <th>brand</th>\n",
       "      <th>model</th>\n",
       "      <th>released_date</th>\n",
       "      <th>announced_date</th>\n",
       "      <th>hardware_designer</th>\n",
       "      <th>manufacturer</th>\n",
       "      <th>codename</th>\n",
       "      <th>general_extras</th>\n",
       "      <th>device_category</th>\n",
       "      <th>...</th>\n",
       "      <th>WLAN</th>\n",
       "      <th>additional_sensors</th>\n",
       "      <th>battery_capacity</th>\n",
       "      <th>market_regions</th>\n",
       "      <th>info_added_date</th>\n",
       "      <th>x_resolution</th>\n",
       "      <th>y_resolution</th>\n",
       "      <th>price_in_usd</th>\n",
       "      <th>year</th>\n",
       "      <th>month</th>\n",
       "    </tr>\n",
       "  </thead>\n",
       "  <tbody>\n",
       "    <tr>\n",
       "      <th>0</th>\n",
       "      <td>A135UZKAUSC</td>\n",
       "      <td>Samsung</td>\n",
       "      <td>SM-A135U Galaxy A13 2022 Standard Edition TD-L...</td>\n",
       "      <td>2022-03-28</td>\n",
       "      <td>04-03-22</td>\n",
       "      <td>Samsung Electronics</td>\n",
       "      <td>Samsung Electronics</td>\n",
       "      <td>Samsung A135</td>\n",
       "      <td>Haptic touch feedback</td>\n",
       "      <td>Smartphone</td>\n",
       "      <td>...</td>\n",
       "      <td>802.11a,802.11b,802.11g,802.11n,802.11ac</td>\n",
       "      <td>FP sensor,L sensor,P sensor</td>\n",
       "      <td>5000 mAh battery</td>\n",
       "      <td>North America</td>\n",
       "      <td>02-08-23 18:10</td>\n",
       "      <td>1080</td>\n",
       "      <td>2408</td>\n",
       "      <td>199.0</td>\n",
       "      <td>2022</td>\n",
       "      <td>3</td>\n",
       "    </tr>\n",
       "    <tr>\n",
       "      <th>1</th>\n",
       "      <td>A135UZKDXAA</td>\n",
       "      <td>Samsung</td>\n",
       "      <td>SM-A135U1/DS Galaxy A13 2022 Standard Edition ...</td>\n",
       "      <td>2022-03-28</td>\n",
       "      <td>04-03-22</td>\n",
       "      <td>Samsung Electronics</td>\n",
       "      <td>Samsung Electronics</td>\n",
       "      <td>Samsung A135</td>\n",
       "      <td>Haptic touch feedback</td>\n",
       "      <td>Smartphone</td>\n",
       "      <td>...</td>\n",
       "      <td>802.11a,802.11b,802.11g,802.11n,802.11ac</td>\n",
       "      <td>FP sensor,L sensor,P sensor</td>\n",
       "      <td>5000 mAh battery</td>\n",
       "      <td>North America</td>\n",
       "      <td>01-08-23 09:00</td>\n",
       "      <td>1080</td>\n",
       "      <td>2408</td>\n",
       "      <td>199.0</td>\n",
       "      <td>2022</td>\n",
       "      <td>3</td>\n",
       "    </tr>\n",
       "  </tbody>\n",
       "</table>\n",
       "<p>2 rows × 51 columns</p>\n",
       "</div>"
      ],
      "text/plain": [
       "        oem_id    brand                                              model  \\\n",
       "0  A135UZKAUSC  Samsung  SM-A135U Galaxy A13 2022 Standard Edition TD-L...   \n",
       "1  A135UZKDXAA  Samsung  SM-A135U1/DS Galaxy A13 2022 Standard Edition ...   \n",
       "\n",
       "  released_date announced_date    hardware_designer         manufacturer  \\\n",
       "0    2022-03-28       04-03-22  Samsung Electronics  Samsung Electronics   \n",
       "1    2022-03-28       04-03-22  Samsung Electronics  Samsung Electronics   \n",
       "\n",
       "       codename         general_extras device_category  ...  \\\n",
       "0  Samsung A135  Haptic touch feedback      Smartphone  ...   \n",
       "1  Samsung A135  Haptic touch feedback      Smartphone  ...   \n",
       "\n",
       "                                       WLAN           additional_sensors  \\\n",
       "0  802.11a,802.11b,802.11g,802.11n,802.11ac  FP sensor,L sensor,P sensor   \n",
       "1  802.11a,802.11b,802.11g,802.11n,802.11ac  FP sensor,L sensor,P sensor   \n",
       "\n",
       "   battery_capacity market_regions  info_added_date  x_resolution  \\\n",
       "0  5000 mAh battery  North America   02-08-23 18:10          1080   \n",
       "1  5000 mAh battery  North America   01-08-23 09:00          1080   \n",
       "\n",
       "  y_resolution price_in_usd  year month  \n",
       "0         2408        199.0  2022     3  \n",
       "1         2408        199.0  2022     3  \n",
       "\n",
       "[2 rows x 51 columns]"
      ]
     },
     "execution_count": 13,
     "metadata": {},
     "output_type": "execute_result"
    }
   ],
   "source": [
    "df['year']=df['released_date'].dt.year # Created a year column by extracting the year from released_date \n",
    "df['month']=df['released_date'].dt.month # Created a month column by extracting the month from released_date\n",
    "df.head(2)"
   ]
  },
  {
   "cell_type": "code",
   "execution_count": 14,
   "id": "8f86a299",
   "metadata": {},
   "outputs": [
    {
     "data": {
      "text/html": [
       "<div>\n",
       "<style scoped>\n",
       "    .dataframe tbody tr th:only-of-type {\n",
       "        vertical-align: middle;\n",
       "    }\n",
       "\n",
       "    .dataframe tbody tr th {\n",
       "        vertical-align: top;\n",
       "    }\n",
       "\n",
       "    .dataframe thead th {\n",
       "        text-align: right;\n",
       "    }\n",
       "</style>\n",
       "<table border=\"1\" class=\"dataframe\">\n",
       "  <thead>\n",
       "    <tr style=\"text-align: right;\">\n",
       "      <th></th>\n",
       "      <th>oem_id</th>\n",
       "      <th>brand</th>\n",
       "      <th>model</th>\n",
       "      <th>released_date</th>\n",
       "      <th>announced_date</th>\n",
       "      <th>hardware_designer</th>\n",
       "      <th>manufacturer</th>\n",
       "      <th>codename</th>\n",
       "      <th>general_extras</th>\n",
       "      <th>device_category</th>\n",
       "      <th>...</th>\n",
       "      <th>additional_sensors</th>\n",
       "      <th>battery_capacity</th>\n",
       "      <th>market_regions</th>\n",
       "      <th>info_added_date</th>\n",
       "      <th>x_resolution</th>\n",
       "      <th>y_resolution</th>\n",
       "      <th>price_in_usd</th>\n",
       "      <th>year</th>\n",
       "      <th>month</th>\n",
       "      <th>price_in_gbp</th>\n",
       "    </tr>\n",
       "  </thead>\n",
       "  <tbody>\n",
       "    <tr>\n",
       "      <th>0</th>\n",
       "      <td>A135UZKAUSC</td>\n",
       "      <td>Samsung</td>\n",
       "      <td>SM-A135U Galaxy A13 2022 Standard Edition TD-L...</td>\n",
       "      <td>2022-03-28</td>\n",
       "      <td>04-03-22</td>\n",
       "      <td>Samsung Electronics</td>\n",
       "      <td>Samsung Electronics</td>\n",
       "      <td>Samsung A135</td>\n",
       "      <td>Haptic touch feedback</td>\n",
       "      <td>Smartphone</td>\n",
       "      <td>...</td>\n",
       "      <td>FP sensor,L sensor,P sensor</td>\n",
       "      <td>5000 mAh battery</td>\n",
       "      <td>North America</td>\n",
       "      <td>02-08-23 18:10</td>\n",
       "      <td>1080</td>\n",
       "      <td>2408</td>\n",
       "      <td>199.0</td>\n",
       "      <td>2022</td>\n",
       "      <td>3</td>\n",
       "      <td>155.22</td>\n",
       "    </tr>\n",
       "    <tr>\n",
       "      <th>1</th>\n",
       "      <td>A135UZKDXAA</td>\n",
       "      <td>Samsung</td>\n",
       "      <td>SM-A135U1/DS Galaxy A13 2022 Standard Edition ...</td>\n",
       "      <td>2022-03-28</td>\n",
       "      <td>04-03-22</td>\n",
       "      <td>Samsung Electronics</td>\n",
       "      <td>Samsung Electronics</td>\n",
       "      <td>Samsung A135</td>\n",
       "      <td>Haptic touch feedback</td>\n",
       "      <td>Smartphone</td>\n",
       "      <td>...</td>\n",
       "      <td>FP sensor,L sensor,P sensor</td>\n",
       "      <td>5000 mAh battery</td>\n",
       "      <td>North America</td>\n",
       "      <td>01-08-23 09:00</td>\n",
       "      <td>1080</td>\n",
       "      <td>2408</td>\n",
       "      <td>199.0</td>\n",
       "      <td>2022</td>\n",
       "      <td>3</td>\n",
       "      <td>155.22</td>\n",
       "    </tr>\n",
       "  </tbody>\n",
       "</table>\n",
       "<p>2 rows × 52 columns</p>\n",
       "</div>"
      ],
      "text/plain": [
       "        oem_id    brand                                              model  \\\n",
       "0  A135UZKAUSC  Samsung  SM-A135U Galaxy A13 2022 Standard Edition TD-L...   \n",
       "1  A135UZKDXAA  Samsung  SM-A135U1/DS Galaxy A13 2022 Standard Edition ...   \n",
       "\n",
       "  released_date announced_date    hardware_designer         manufacturer  \\\n",
       "0    2022-03-28       04-03-22  Samsung Electronics  Samsung Electronics   \n",
       "1    2022-03-28       04-03-22  Samsung Electronics  Samsung Electronics   \n",
       "\n",
       "       codename         general_extras device_category  ...  \\\n",
       "0  Samsung A135  Haptic touch feedback      Smartphone  ...   \n",
       "1  Samsung A135  Haptic touch feedback      Smartphone  ...   \n",
       "\n",
       "            additional_sensors  battery_capacity  market_regions  \\\n",
       "0  FP sensor,L sensor,P sensor  5000 mAh battery   North America   \n",
       "1  FP sensor,L sensor,P sensor  5000 mAh battery   North America   \n",
       "\n",
       "  info_added_date  x_resolution  y_resolution price_in_usd  year month  \\\n",
       "0  02-08-23 18:10          1080          2408        199.0  2022     3   \n",
       "1  01-08-23 09:00          1080          2408        199.0  2022     3   \n",
       "\n",
       "  price_in_gbp  \n",
       "0       155.22  \n",
       "1       155.22  \n",
       "\n",
       "[2 rows x 52 columns]"
      ]
     },
     "execution_count": 14,
     "metadata": {},
     "output_type": "execute_result"
    }
   ],
   "source": [
    "# Converted the price in used to gbp by multiplying each row by 0.78(as 1gbp = 0.78 usd) and stored the value in a new column.\n",
    "df['price_in_gbp']=df['price_in_usd'].apply(lambda x: x*0.78)\n",
    "df.head(2)"
   ]
  },
  {
   "cell_type": "code",
   "execution_count": 15,
   "id": "7ef40099",
   "metadata": {},
   "outputs": [
    {
     "data": {
      "image/png": "[encoded data removed]",
      "text/plain": [
       "<Figure size 500x1000 with 1 Axes>"
      ]
     },
     "metadata": {},
     "output_type": "display_data"
    },
    {
     "data": {
      "image/png": "[encoded data removed]",
      "text/plain": [
       "<Figure size 500x1000 with 1 Axes>"
      ]
     },
     "metadata": {},
     "output_type": "display_data"
    },
    {
     "data": {
      "image/png": "[encoded data removed]",
      "text/plain": [
       "<Figure size 500x1000 with 1 Axes>"
      ]
     },
     "metadata": {},
     "output_type": "display_data"
    },
    {
     "data": {
      "image/png": "[encoded data removed]",
      "text/plain": [
       "<Figure size 500x1000 with 1 Axes>"
      ]
     },
     "metadata": {},
     "output_type": "display_data"
    }
   ],
   "source": [
    "# Made a for loop for plotting a line graph with appropriate labels and title for years in 2020,2021,2022 and 2023\n",
    "\n",
    "i=1\n",
    "\n",
    "for year in [2020,2021,2022,2023]:\n",
    "    \n",
    "    year_df = df[df['year'] == year] # Created a dataframe with the years only in the above range\n",
    "    avg_price_per_month =year_df.groupby(['month'])['price_in_gbp'].mean() # Grouped by month and mean of price in gbp found\n",
    "   \n",
    "    plt.figure(figsize=(5,10)) #Setting the figure size\n",
    "    plt.subplot(4,1,i) #Making 4 subplots in 4 rows, 1 column format\n",
    "    plt.plot(avg_price_per_month.index, avg_price_per_month.values, marker='o', linestyle='-') # Plot line graph of solid line style\n",
    "    plt.title(f'Monthly Average Price Trends in {year}') #Title for each graph\n",
    "    plt.xlabel('Month') #Setting the x and y labels\n",
    "    plt.ylabel('Average Price in GBP')\n",
    "    plt.xticks(range(1, 13), ['Jan', 'Feb', 'Mar', 'Apr', 'May', 'Jun', 'Jul', 'Aug', 'Sep', 'Oct', 'Nov', 'Dec']) # Setting the x axis labels/ticks\n",
    "    plt.show() #Displays the graph\n",
    "    i=i+1 #Increments i by 1 so that next subplot can be printed."
   ]
  }
 ],
 "metadata": {
  "kernelspec": {
   "display_name": "Python 3 (ipykernel)",
   "language": "python",
   "name": "python3"
  },
  "language_info": {
   "codemirror_mode": {
    "name": "ipython",
    "version": 3
   },
   "file_extension": ".py",
   "mimetype": "text/x-python",
   "name": "python",
   "nbconvert_exporter": "python",
   "pygments_lexer": "ipython3",
   "version": "3.10.12"
  }
 },
 "nbformat": 4,
 "nbformat_minor": 5
}
